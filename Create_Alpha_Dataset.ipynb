{
  "cells": [
    {
      "cell_type": "code",
      "source": [
        "!pip install nltk"
      ],
      "outputs": [
        {
          "output_type": "stream",
          "name": "stdout",
          "text": [
            "Requirement already satisfied: nltk in /anaconda/envs/azureml_py36/lib/python3.6/site-packages (3.5)\r\n",
            "Requirement already satisfied: tqdm in /anaconda/envs/azureml_py36/lib/python3.6/site-packages (from nltk) (4.55.1)\r\n",
            "Requirement already satisfied: joblib in /anaconda/envs/azureml_py36/lib/python3.6/site-packages (from nltk) (0.14.1)\r\n",
            "Requirement already satisfied: click in /anaconda/envs/azureml_py36/lib/python3.6/site-packages (from nltk) (7.1.2)\r\n",
            "Requirement already satisfied: regex in /anaconda/envs/azureml_py36/lib/python3.6/site-packages (from nltk) (2020.11.13)\r\n"
          ]
        }
      ],
      "execution_count": 47,
      "metadata": {
        "gather": {
          "logged": 1607135697768
        }
      }
    },
    {
      "cell_type": "code",
      "source": [
        "import pandas as pd\r\n",
        "import random\r\n",
        "from azureml.core import Workspace, Datastore, Dataset\r\n",
        "from nltk.tokenize import WhitespaceTokenizer\r\n"
      ],
      "outputs": [],
      "execution_count": 48,
      "metadata": {
        "collapsed": true,
        "jupyter": {
          "source_hidden": false,
          "outputs_hidden": false
        },
        "nteract": {
          "transient": {
            "deleting": false
          }
        },
        "gather": {
          "logged": 1612118672671
        }
      }
    },
    {
      "cell_type": "code",
      "source": [
        "# Importing everyone's datasets\r\n",
        "\r\n",
        "usernames_df = pd.read_csv(\"../Dataset_CSVs/tweetsv2.csv\", names=[\"Data\", \"Label\"], header=0)\r\n",
        "hostnames_df = pd.read_csv(\"../Dataset_CSVs/hostname_stringsv2.csv\", names=[\"Data\", \"Label\"], header=0)\r\n",
        "filenames_df = pd.read_csv(\"../Dataset_CSVs/filenamesv2.csv\", names=[\"Data\", \"Label\"], header=0)\r\n",
        "ip_df = pd.read_csv(\"../Dataset_CSVs/ip_datapointsv2.csv\", names=[\"Data\", \"Label\"], header=0)\r\n",
        "servernames_df = pd.read_csv(\"../Dataset_CSVs/servernamesv2.csv\", names=[\"Data\", \"Label\"], header=0)\r\n"
      ],
      "outputs": [],
      "execution_count": 49,
      "metadata": {
        "collapsed": true,
        "jupyter": {
          "source_hidden": false,
          "outputs_hidden": false
        },
        "nteract": {
          "transient": {
            "deleting": false
          }
        },
        "gather": {
          "logged": 1612118692314
        }
      }
    },
    {
      "cell_type": "code",
      "source": [
        "ip_df['Label'].value_counts()"
      ],
      "outputs": [
        {
          "output_type": "execute_result",
          "execution_count": 50,
          "data": {
            "text/plain": "IP         2527\nnothing    2473\nName: Label, dtype: int64"
          },
          "metadata": {}
        }
      ],
      "execution_count": 50,
      "metadata": {
        "collapsed": true,
        "jupyter": {
          "source_hidden": false,
          "outputs_hidden": false
        },
        "nteract": {
          "transient": {
            "deleting": false
          }
        },
        "gather": {
          "logged": 1612118693968
        }
      }
    },
    {
      "cell_type": "code",
      "source": [
        "l = [usernames_df,hostnames_df,filenames_df,ip_df,servernames_df]\r\n",
        "for d in l:\r\n",
        "    print(d['Label'].value_counts())"
      ],
      "outputs": [
        {
          "output_type": "stream",
          "name": "stdout",
          "text": [
            "username    7319\n",
            "nothing     3009\n",
            "Name: Label, dtype: int64\n",
            "hostname    5025\n",
            "nothing     4975\n",
            "Name: Label, dtype: int64\n",
            "filename    8741\n",
            "Name: Label, dtype: int64\n",
            "IP         2527\n",
            "nothing    2473\n",
            "Name: Label, dtype: int64\n",
            "servername    186\n",
            "Name: Label, dtype: int64\n"
          ]
        }
      ],
      "execution_count": 51,
      "metadata": {
        "collapsed": true,
        "jupyter": {
          "source_hidden": false,
          "outputs_hidden": false
        },
        "nteract": {
          "transient": {
            "deleting": false
          }
        },
        "gather": {
          "logged": 1612118704318
        }
      }
    },
    {
      "cell_type": "code",
      "source": [
        "# Combining datasets and randomizing resulting list\r\n",
        "\r\n",
        "dataset = usernames_df.values.tolist() + hostnames_df.values.tolist() + filenames_df.values.tolist() + ip_df.values.tolist() + servernames_df.values.tolist()\r\n",
        "random.shuffle(dataset)\r\n",
        "print(len(dataset))"
      ],
      "outputs": [
        {
          "output_type": "stream",
          "name": "stdout",
          "text": [
            "34255\n"
          ]
        }
      ],
      "execution_count": 52,
      "metadata": {
        "collapsed": true,
        "jupyter": {
          "source_hidden": false,
          "outputs_hidden": false
        },
        "nteract": {
          "transient": {
            "deleting": false
          }
        },
        "gather": {
          "logged": 1612118722412
        }
      }
    },
    {
      "cell_type": "code",
      "source": [
        "# Features\r\n",
        "\r\n",
        "# Username specific features\r\n",
        "def LowerUnderscoreUpper(s):\r\n",
        "    l = len(s)\r\n",
        "\r\n",
        "    for i in range(0,l-2):\r\n",
        "        if s[i].islower() and s[i+1] == '_' and s[i+2].isupper():\r\n",
        "            return True\r\n",
        "    return False\r\n",
        "\r\n",
        "def HasUnderscore(s):\r\n",
        "    s = str(s)\r\n",
        "\r\n",
        "    for c in s:\r\n",
        "        if c == '_':\r\n",
        "            return True\r\n",
        "    return False\r\n",
        "\r\n",
        "def LowerUpperLower(s):\r\n",
        "    s = str(s)\r\n",
        "\r\n",
        "    for i in range(0, len(s)-2):\r\n",
        "        if s[i].islower() and s[i+1].isupper() and s[i+2].islower():\r\n",
        "            return True\r\n",
        "    return False\r\n",
        "\r\n",
        "def MultipleLowerUpperLower(s):\r\n",
        "    s = str(s)\r\n",
        "\r\n",
        "    flag = False\r\n",
        "    for i in range(0, len(s)-2):\r\n",
        "        if s[i].islower() and s[i+1].isupper() and s[i+2].islower():\r\n",
        "            if flag:\r\n",
        "                return True\r\n",
        "            else:\r\n",
        "                flag = True\r\n",
        "    return False\r\n",
        "\r\n",
        "def ExactlyTwoUppercase(s):\r\n",
        "    count = 0\r\n",
        "\r\n",
        "    for c in s:\r\n",
        "        if c.isupper():\r\n",
        "            count+=1\r\n",
        "    if count ==2:\r\n",
        "        return True\r\n",
        "    else:\r\n",
        "        return False\r\n",
        "\r\n",
        "def AllLowerMoreThan(bound, s):\r\n",
        "    s = str(s)\r\n",
        "\r\n",
        "    if len(s) < bound:\r\n",
        "        return False\r\n",
        "    for c in s:\r\n",
        "        if c.isupper():\r\n",
        "            return False\r\n",
        "    return True\r\n",
        "\r\n",
        "def AdjacentUppers(s):\r\n",
        "    s = str(s)\r\n",
        "\r\n",
        "    for i in range(0,len(s)-1):\r\n",
        "        if s[i].isupper() and s[i+1].isupper():\r\n",
        "            return True\r\n",
        "    return False\r\n",
        "\r\n",
        "def StartLetterEndNonLetter(s):\r\n",
        "    s = str(s)\r\n",
        "\r\n",
        "    if s[0].isalpha() and not s[-1].isalpha():\r\n",
        "        return True\r\n",
        "    return False\r\n",
        "\r\n",
        "def IsUrl(s):\r\n",
        "    s = str(s)\r\n",
        "    l = len(s)\r\n",
        "    if l > 3:\r\n",
        "        if s[0:4] == \"http\":\r\n",
        "            return True\r\n",
        "    if l > 4:\r\n",
        "        if s[0:5] == \"https\":\r\n",
        "            return True\r\n",
        "    return False\r\n",
        "\r\n",
        "# Hostname specific features\r\n",
        "def LengthGTLT(gt, ls, s):\r\n",
        "    l = len(str(s))\r\n",
        "    if l >= gt and l <= ls:\r\n",
        "        return True\r\n",
        "    else:\r\n",
        "        return False\r\n",
        "\r\n",
        "def IllegalHostnameChars(s):\r\n",
        "    s = str(s)\r\n",
        "    illegal_chars = [\".\", \"\\\", \"\"/\", \"*\", \"?\", \"\\\"\", \"<\", \">\", \"|\", \",\", \"~\", \":\", \"!\", \"@\", \"#\", \"$\", \"%\", \"^\", \"&\", \"'\", \"(\", \")\", \"{\", \"}\", \" \"]\r\n",
        "    for c in s:\r\n",
        "        if c in illegal_chars:\r\n",
        "            return True\r\n",
        "    return False\r\n",
        "\r\n",
        "def AlphaOrDigit(s):\r\n",
        "    s = str(s)\r\n",
        "    if s.isalpha() or s.isdigit():\r\n",
        "        return True\r\n",
        "    return False\r\n",
        "\r\n",
        "def HostIllegalEnding(s):\r\n",
        "    s = str(s)\r\n",
        "    if s[-1] == '-' or s[-1] == '.':\r\n",
        "        return True\r\n",
        "    return False\r\n",
        "\r\n",
        "# Filename specific features\r\n",
        "\r\n",
        "def ContainsPeriod(s):\r\n",
        "    s = str(s)\r\n",
        "    for c in s:\r\n",
        "        if c == '.':\r\n",
        "            return True\r\n",
        "    return False\r\n",
        "\r\n",
        "\r\n",
        "def HasSlash(s):\r\n",
        "    s = str(s)\r\n",
        "    for c in s:\r\n",
        "        if c == '/' or c == '\\\\':\r\n",
        "            return True\r\n",
        "    return False\r\n",
        "\r\n",
        "def HasMultipleSlash(s):\r\n",
        "    s = str(s)\r\n",
        "    slashes = ['/','\\\\']\r\n",
        "    flag = False\r\n",
        "    for c in s:\r\n",
        "        if not flag and c in slashes:\r\n",
        "            flag = True\r\n",
        "        elif flag and c in slashes:\r\n",
        "            return True\r\n",
        "    return False\r\n",
        "\r\n",
        "def HasPossibleExtension(s):\r\n",
        "    s = str(s)\r\n",
        "    for i in range(0,len(s)):\r\n",
        "        if s[i] == '.':\r\n",
        "            x = s[i:-1]\r\n",
        "            if len(x) >= 2 and len(x) <= 4:\r\n",
        "                return True\r\n",
        "    return False\r\n",
        "\r\n",
        "# IP Features\r\n",
        "def NumbersThenPeriod(s):\r\n",
        "    s = str(s)\r\n",
        "    freq = 0\r\n",
        "    for i in range(0,len(s)-1):\r\n",
        "        if s[i] >= '0' and s[i] <= '9' and s[i+1] == '.':\r\n",
        "            freq += 1\r\n",
        "    return True if freq == 3 else False\r\n",
        "\r\n",
        "def AtLeastFourDigits(s):\r\n",
        "    s = str(s)\r\n",
        "    counter = 0\r\n",
        "    for c in s:\r\n",
        "        if c.isnumeric():\r\n",
        "            counter += 1\r\n",
        "    return True if counter >=4 else False\r\n",
        "\r\n",
        "# Servername Features\r\n",
        "\r\n",
        "def HasPeriodAndSlash(s):\r\n",
        "    s = str(s)\r\n",
        "    period = False\r\n",
        "    slash = False\r\n",
        "    for c in s:\r\n",
        "        if c == '.':\r\n",
        "            period = True\r\n",
        "        if s =='/':\r\n",
        "            slash = True\r\n",
        "    return True if period and slash else False\r\n",
        "\r\n",
        "def HasInstanceNumPeriod(s):\r\n",
        "    s = str(s)\r\n",
        "    for i in range(0,len(s)-1):\r\n",
        "        if s[i].isnumeric() and s[i+1] == '.':\r\n",
        "            return True\r\n",
        "    return False\r\n",
        "\r\n",
        "def HasMultipleNumPeriod(s):\r\n",
        "    s = str(s)\r\n",
        "    flag = False\r\n",
        "    for i in range(0,len(s)-1):\r\n",
        "        if s[i].isnumeric() and s[i+1] == '.' and not flag:\r\n",
        "            flag = True\r\n",
        "        if s[i].isnumeric() and s[i+1] == '.' and flag:\r\n",
        "            return True\r\n",
        "    return False\r\n",
        "\r\n",
        "# List of the feature names, for resulting csv file column names\r\n",
        "feature_names =[\"LowerUnderscoreUpper\", \"HasUnderscore\", \"LowerUpperLower\", \"MultipleLowerUpperLower\", \"ExactlyTwoUppercase\", \"AllLowerMoreThan\",\r\n",
        "    \"AdjacentUppers\", \"StartLetterEndNonLetter\", \"LengthGTLT\", \"IllegalHostnameChars\", \"AlphaOrDigit\", \"HostIllegalEnding\", \"ContainsPeriod\",\r\n",
        "    \"HasSlash\", \"HasMultipleSlash\", \"HasPossibleExtension\", \"NumbersThenPeriod\", \"AtLeastFourDigits\", \"HasPeriodAndSlash\", \"HasInstanceNumPeriod\", \r\n",
        "    \"HasMultipleNumPeriod\", \"Label\"]"
      ],
      "outputs": [],
      "execution_count": 53,
      "metadata": {
        "collapsed": true,
        "jupyter": {
          "source_hidden": false,
          "outputs_hidden": false
        },
        "nteract": {
          "transient": {
            "deleting": false
          }
        },
        "gather": {
          "logged": 1612118729811
        }
      }
    },
    {
      "cell_type": "code",
      "source": [
        "# extracting features and labels\r\n",
        "feature_list = []\r\n",
        " \r\n",
        "tk = WhitespaceTokenizer() \r\n",
        "\r\n",
        "for dp in dataset:\r\n",
        "    d = str(dp[0])\r\n",
        "    label = dp[1]\r\n",
        "    tokens = tk.tokenize(d)\r\n",
        "    tokens = list(filter(lambda x: not IsUrl(x), tokens))\r\n",
        "    dp_list = []\r\n",
        "    dp_list.append(True) if True in list(map(lambda x: LowerUnderscoreUpper(x), tokens)) else dp_list.append(False)\r\n",
        "    dp_list.append(True) if True in list(map(lambda x: HasUnderscore(x), tokens)) else dp_list.append(False)\r\n",
        "    dp_list.append(True) if True in list(map(lambda x: LowerUpperLower(x), tokens)) else dp_list.append(False)\r\n",
        "    dp_list.append(True) if True in list(map(lambda x: MultipleLowerUpperLower(x), tokens)) else dp_list.append(False)\r\n",
        "    dp_list.append(True) if True in list(map(lambda x: ExactlyTwoUppercase(x), tokens)) else dp_list.append(False)\r\n",
        "    dp_list.append(True) if True in list(map(lambda x: AllLowerMoreThan(10,x), tokens)) else dp_list.append(False)\r\n",
        "    dp_list.append(True) if True in list(map(lambda x: AdjacentUppers(x), tokens)) else dp_list.append(False)\r\n",
        "    dp_list.append(True) if True in list(map(lambda x: StartLetterEndNonLetter(x), tokens)) else dp_list.append(False)\r\n",
        "    dp_list.append(True) if True in list(map(lambda x: LengthGTLT(1, 15, x), tokens)) else dp_list.append(False)\r\n",
        "    dp_list.append(True) if True in list(map(lambda x: IllegalHostnameChars(x), tokens)) else dp_list.append(False)\r\n",
        "    dp_list.append(True) if True in list(map(lambda x: AlphaOrDigit(x), tokens)) else dp_list.append(False)\r\n",
        "    dp_list.append(True) if True in list(map(lambda x: HostIllegalEnding(x), tokens)) else dp_list.append(False)\r\n",
        "    dp_list.append(True) if True in list(map(lambda x: ContainsPeriod(x), tokens)) else dp_list.append(False)\r\n",
        "    dp_list.append(True) if True in list(map(lambda x: HasSlash(x), tokens)) else dp_list.append(False)\r\n",
        "    dp_list.append(True) if True in list(map(lambda x: HasMultipleSlash(x), tokens)) else dp_list.append(False)\r\n",
        "    dp_list.append(True) if True in list(map(lambda x: HasPossibleExtension(x), tokens)) else dp_list.append(False)\r\n",
        "    dp_list.append(True) if True in list(map(lambda x: NumbersThenPeriod(x), tokens)) else dp_list.append(False)\r\n",
        "    dp_list.append(True) if True in list(map(lambda x: AtLeastFourDigits(x), tokens)) else dp_list.append(False)\r\n",
        "    dp_list.append(True) if True in list(map(lambda x: HasPeriodAndSlash(x), tokens)) else dp_list.append(False)\r\n",
        "    dp_list.append(True) if True in list(map(lambda x: HasInstanceNumPeriod(x), tokens)) else dp_list.append(False)\r\n",
        "    dp_list.append(True) if True in list(map(lambda x: HasMultipleNumPeriod(x), tokens)) else dp_list.append(False)\r\n",
        "    dp_list.append(label)\r\n",
        "    feature_list.append(dp_list)\r\n"
      ],
      "outputs": [],
      "execution_count": 54,
      "metadata": {
        "collapsed": true,
        "jupyter": {
          "source_hidden": false,
          "outputs_hidden": false
        },
        "nteract": {
          "transient": {
            "deleting": false
          }
        },
        "gather": {
          "logged": 1612118801088
        }
      }
    },
    {
      "cell_type": "code",
      "source": [
        "# Writing featurized + labeled dataset to a csv file\r\n",
        "\r\n",
        "labeled_features_df = pd.DataFrame(feature_list, columns=feature_names)\r\n",
        "labeled_features_df.head()\r\n",
        "labeled_features_df.to_csv(\"./Data/Alpha_Featurizedv2.csv\", index=False)"
      ],
      "outputs": [],
      "execution_count": 55,
      "metadata": {
        "collapsed": true,
        "jupyter": {
          "source_hidden": false,
          "outputs_hidden": false
        },
        "nteract": {
          "transient": {
            "deleting": false
          }
        },
        "gather": {
          "logged": 1612118815961
        }
      }
    },
    {
      "cell_type": "code",
      "source": [
        "# Registering the featurized + labeled dataset\r\n",
        "\r\n",
        "subscription_id = '9d0dfa04-d2f8-4521-b945-b3a7dbf43946'\r\n",
        "resource_group = 'CougsInAzure'\r\n",
        "workspace_name = 'CougsInAzure2'\r\n",
        "\r\n",
        "workspace = Workspace(subscription_id, resource_group, workspace_name)\r\n",
        "datastore = workspace.get_default_datastore()\r\n",
        "datastore.upload(src_dir='Data/', target_path='Data/',overwrite=True)\r\n",
        "alpha_featurized_ds = Dataset.Tabular.from_delimited_files(path=[(datastore, ('Data/Alpha_Featurizedv2.csv'))])\r\n",
        "featurized_registered_dataset = alpha_featurized_ds.register(workspace=workspace,\r\n",
        "                                 name='Alpha_Featurizedv2',\r\n",
        "                                 description='Alpha Prototype Training Featurization Data V2')"
      ],
      "outputs": [
        {
          "output_type": "stream",
          "name": "stdout",
          "text": [
            "Uploading an estimated of 3 files\n",
            "Uploading Data/Alpha_Featurized.csv\n",
            "Uploaded Data/Alpha_Featurized.csv, 1 files out of an estimated total of 3\n",
            "Uploading Data/Alpha_Dataset.csv\n",
            "Uploaded Data/Alpha_Dataset.csv, 2 files out of an estimated total of 3\n",
            "Uploading Data/Alpha_Featurizedv2.csv\n",
            "Uploaded Data/Alpha_Featurizedv2.csv, 3 files out of an estimated total of 3\n",
            "Uploaded 3 files\n"
          ]
        }
      ],
      "execution_count": 59,
      "metadata": {
        "collapsed": true,
        "jupyter": {
          "source_hidden": false,
          "outputs_hidden": false
        },
        "nteract": {
          "transient": {
            "deleting": false
          }
        },
        "gather": {
          "logged": 1612119249289
        }
      }
    }
  ],
  "metadata": {
    "kernelspec": {
      "name": "python3-azureml",
      "language": "python",
      "display_name": "Python 3.6 - AzureML"
    },
    "language_info": {
      "name": "python",
      "version": "3.6.9",
      "mimetype": "text/x-python",
      "codemirror_mode": {
        "name": "ipython",
        "version": 3
      },
      "pygments_lexer": "ipython3",
      "nbconvert_exporter": "python",
      "file_extension": ".py"
    },
    "kernel_info": {
      "name": "python3-azureml"
    },
    "nteract": {
      "version": "nteract-front-end@1.0.0"
    }
  },
  "nbformat": 4,
  "nbformat_minor": 2
}