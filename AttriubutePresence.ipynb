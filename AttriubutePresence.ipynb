{
  "cells": [
    {
      "cell_type": "code",
      "source": [
        "!pip install nltk"
      ],
      "outputs": [
        {
          "output_type": "stream",
          "name": "stdout",
          "text": [
            "Requirement already satisfied: nltk in /anaconda/envs/azureml_py36/lib/python3.6/site-packages (3.5)\r\n",
            "Requirement already satisfied: click in /anaconda/envs/azureml_py36/lib/python3.6/site-packages (from nltk) (7.1.2)\r\n",
            "Requirement already satisfied: joblib in /anaconda/envs/azureml_py36/lib/python3.6/site-packages (from nltk) (0.14.1)\r\n",
            "Requirement already satisfied: tqdm in /anaconda/envs/azureml_py36/lib/python3.6/site-packages (from nltk) (4.51.0)\r\n",
            "Requirement already satisfied: regex in /anaconda/envs/azureml_py36/lib/python3.6/site-packages (from nltk) (2020.10.28)\r\n"
          ]
        }
      ],
      "execution_count": 128,
      "metadata": {}
    },
    {
      "cell_type": "code",
      "source": [
        "import pandas as pd\r\n",
        "import numpy as np\r\n",
        "import json\r\n",
        "import ast\r\n",
        "from nltk.tokenize import WhitespaceTokenizer\r\n",
        "import random\r\n",
        "from azureml.core import Workspace, Dataset"
      ],
      "outputs": [],
      "execution_count": 129,
      "metadata": {
        "collapsed": true,
        "jupyter": {
          "source_hidden": false,
          "outputs_hidden": false
        },
        "nteract": {
          "transient": {
            "deleting": false
          }
        },
        "gather": {
          "logged": 1607136676827
        }
      }
    },
    {
      "cell_type": "code",
      "source": [
        "subscription_id = '9d0dfa04-d2f8-4521-b945-b3a7dbf43946'\r\n",
        "resource_group = 'CougsInAzure'\r\n",
        "workspace_name = 'CougsInAzure'\r\n",
        "\r\n",
        "workspace = Workspace(subscription_id, resource_group, workspace_name)\r\n",
        "\r\n",
        "dataset = Dataset.get_by_name(workspace, name='Alpha_Featurized')"
      ],
      "outputs": [],
      "execution_count": 130,
      "metadata": {
        "collapsed": true,
        "jupyter": {
          "source_hidden": false,
          "outputs_hidden": false
        },
        "nteract": {
          "transient": {
            "deleting": false
          }
        },
        "gather": {
          "logged": 1607136680470
        }
      }
    },
    {
      "cell_type": "code",
      "source": [
        "df = dataset.to_pandas_dataframe()\r\n",
        "df.head()"
      ],
      "outputs": [
        {
          "output_type": "execute_result",
          "execution_count": 131,
          "data": {
            "text/plain": "   LowerUnderscoreUpper  HasUnderscore  LowerUpperLower  \\\n0                 False          False            False   \n1                 False          False            False   \n2                 False          False            False   \n3                 False          False            False   \n4                 False          False            False   \n\n   MultipleLowerUpperLower  ExactlyTwoUppercase  AllLowerMoreThan  \\\n0                    False                 True              True   \n1                    False                False              True   \n2                    False                False              True   \n3                    False                False              True   \n4                    False                False              True   \n\n   AdjacentUppers  StartLetterEndNonLetter  LengthGTLT  IllegalHostnameChars  \\\n0            True                    False        True                  True   \n1           False                    False        True                 False   \n2           False                    False        True                  True   \n3           False                     True        True                  True   \n4           False                    False        True                  True   \n\n   ...  ContainsPeriod  HasSlash  HasMultipleSlash  HasPossibleExtension  \\\n0  ...            True     False             False                 False   \n1  ...           False     False             False                 False   \n2  ...            True      True             False                  True   \n3  ...           False     False             False                 False   \n4  ...            True      True             False                  True   \n\n   NumbersThenPeriod  AtLeastFourDigits  HasPeriodAndSlash  \\\n0               True               True              False   \n1              False              False              False   \n2              False              False              False   \n3              False               True              False   \n4              False              False              False   \n\n   HasInstanceNumPeriod  HasMultipleNumPeriod  Label  \n0                  True                  True      1  \n1                 False                 False      1  \n2                 False                 False      1  \n3                 False                 False      0  \n4                 False                 False      1  \n\n[5 rows x 22 columns]",
            "text/html": "<div>\n<style scoped>\n    .dataframe tbody tr th:only-of-type {\n        vertical-align: middle;\n    }\n\n    .dataframe tbody tr th {\n        vertical-align: top;\n    }\n\n    .dataframe thead th {\n        text-align: right;\n    }\n</style>\n<table border=\"1\" class=\"dataframe\">\n  <thead>\n    <tr style=\"text-align: right;\">\n      <th></th>\n      <th>LowerUnderscoreUpper</th>\n      <th>HasUnderscore</th>\n      <th>LowerUpperLower</th>\n      <th>MultipleLowerUpperLower</th>\n      <th>ExactlyTwoUppercase</th>\n      <th>AllLowerMoreThan</th>\n      <th>AdjacentUppers</th>\n      <th>StartLetterEndNonLetter</th>\n      <th>LengthGTLT</th>\n      <th>IllegalHostnameChars</th>\n      <th>...</th>\n      <th>ContainsPeriod</th>\n      <th>HasSlash</th>\n      <th>HasMultipleSlash</th>\n      <th>HasPossibleExtension</th>\n      <th>NumbersThenPeriod</th>\n      <th>AtLeastFourDigits</th>\n      <th>HasPeriodAndSlash</th>\n      <th>HasInstanceNumPeriod</th>\n      <th>HasMultipleNumPeriod</th>\n      <th>Label</th>\n    </tr>\n  </thead>\n  <tbody>\n    <tr>\n      <th>0</th>\n      <td>False</td>\n      <td>False</td>\n      <td>False</td>\n      <td>False</td>\n      <td>True</td>\n      <td>True</td>\n      <td>True</td>\n      <td>False</td>\n      <td>True</td>\n      <td>True</td>\n      <td>...</td>\n      <td>True</td>\n      <td>False</td>\n      <td>False</td>\n      <td>False</td>\n      <td>True</td>\n      <td>True</td>\n      <td>False</td>\n      <td>True</td>\n      <td>True</td>\n      <td>1</td>\n    </tr>\n    <tr>\n      <th>1</th>\n      <td>False</td>\n      <td>False</td>\n      <td>False</td>\n      <td>False</td>\n      <td>False</td>\n      <td>True</td>\n      <td>False</td>\n      <td>False</td>\n      <td>True</td>\n      <td>False</td>\n      <td>...</td>\n      <td>False</td>\n      <td>False</td>\n      <td>False</td>\n      <td>False</td>\n      <td>False</td>\n      <td>False</td>\n      <td>False</td>\n      <td>False</td>\n      <td>False</td>\n      <td>1</td>\n    </tr>\n    <tr>\n      <th>2</th>\n      <td>False</td>\n      <td>False</td>\n      <td>False</td>\n      <td>False</td>\n      <td>False</td>\n      <td>True</td>\n      <td>False</td>\n      <td>False</td>\n      <td>True</td>\n      <td>True</td>\n      <td>...</td>\n      <td>True</td>\n      <td>True</td>\n      <td>False</td>\n      <td>True</td>\n      <td>False</td>\n      <td>False</td>\n      <td>False</td>\n      <td>False</td>\n      <td>False</td>\n      <td>1</td>\n    </tr>\n    <tr>\n      <th>3</th>\n      <td>False</td>\n      <td>False</td>\n      <td>False</td>\n      <td>False</td>\n      <td>False</td>\n      <td>True</td>\n      <td>False</td>\n      <td>True</td>\n      <td>True</td>\n      <td>True</td>\n      <td>...</td>\n      <td>False</td>\n      <td>False</td>\n      <td>False</td>\n      <td>False</td>\n      <td>False</td>\n      <td>True</td>\n      <td>False</td>\n      <td>False</td>\n      <td>False</td>\n      <td>0</td>\n    </tr>\n    <tr>\n      <th>4</th>\n      <td>False</td>\n      <td>False</td>\n      <td>False</td>\n      <td>False</td>\n      <td>False</td>\n      <td>True</td>\n      <td>False</td>\n      <td>False</td>\n      <td>True</td>\n      <td>True</td>\n      <td>...</td>\n      <td>True</td>\n      <td>True</td>\n      <td>False</td>\n      <td>True</td>\n      <td>False</td>\n      <td>False</td>\n      <td>False</td>\n      <td>False</td>\n      <td>False</td>\n      <td>1</td>\n    </tr>\n  </tbody>\n</table>\n<p>5 rows × 22 columns</p>\n</div>"
          },
          "metadata": {}
        }
      ],
      "execution_count": 131,
      "metadata": {
        "collapsed": true,
        "jupyter": {
          "source_hidden": false,
          "outputs_hidden": false
        },
        "nteract": {
          "transient": {
            "deleting": false
          }
        },
        "gather": {
          "logged": 1607136684198
        }
      }
    },
    {
      "cell_type": "code",
      "source": [
        "# splitting the datasets into positive and negative lists\r\n",
        "def IsPositive(r):\r\n",
        "    return True if r[-1] else False\r\n",
        "def IsNegative(r):\r\n",
        "    return True if not r[-1] else False\r\n",
        "\r\n",
        "df_list = df.values.tolist()\r\n",
        "\r\n",
        "\r\n",
        "positive_dataset = list(filter(IsPositive, df_list))\r\n",
        "negative_dataset = list(filter(IsNegative, df_list))\r\n",
        "\r\n",
        "random.shuffle(positive_dataset)\r\n",
        "random.shuffle(negative_dataset)\r\n",
        "\r\n"
      ],
      "outputs": [
        {
          "output_type": "stream",
          "name": "stdout",
          "text": [
            "28552\n",
            "[[False, False, False, False, False, True, False, False, True, True, False, False, True, True, False, True, False, False, False, False, False, 1], [False, False, False, False, False, True, False, False, True, True, False, False, True, True, False, True, False, False, False, True, True, 1], [False, False, True, False, True, False, True, True, True, True, True, True, True, False, False, False, False, True, False, False, False, 1], [False, False, False, False, False, True, False, False, True, False, False, False, False, False, False, False, False, False, False, False, False, 1], [False, False, False, False, False, True, False, False, False, True, False, False, True, True, True, True, False, True, False, True, True, 1], [False, True, True, False, True, True, True, True, True, True, True, True, True, False, False, False, False, True, False, False, False, 1], [False, False, True, True, True, True, True, True, True, True, True, True, True, False, False, False, False, False, False, False, False, 1], [False, False, False, False, False, False, False, False, True, True, False, False, True, True, False, True, False, False, False, False, False, 1], [False, False, False, False, False, True, False, False, False, True, False, False, True, True, True, True, False, False, False, True, True, 1], [False, False, False, False, False, True, False, False, True, True, False, False, True, True, False, True, False, False, False, False, False, 1]]\n",
            "12610\n",
            "[[False, False, False, False, False, False, True, False, False, False, True, False, False, False, False, False, False, False, False, False, False, 0], [False, False, False, False, False, False, True, False, False, False, True, False, False, False, False, False, False, False, False, False, False, 0], [False, False, True, False, True, False, True, True, True, True, True, False, False, False, False, False, False, True, False, False, False, 0], [False, False, False, False, False, True, False, True, True, True, True, False, False, False, False, False, False, False, False, False, False, 0], [False, False, False, False, False, False, False, False, True, True, False, False, False, False, False, False, False, False, False, False, False, 0], [False, False, False, False, False, False, False, False, True, False, True, False, False, False, False, False, False, False, False, False, False, 0], [False, False, True, False, False, True, True, False, True, True, True, False, True, True, True, False, False, True, False, False, False, 0], [False, False, False, False, False, False, False, False, True, False, True, False, False, False, False, False, False, False, False, False, False, 0], [False, False, False, False, False, False, True, False, False, False, False, False, False, False, False, False, False, False, False, False, False, 0], [False, False, False, False, False, False, False, False, True, False, True, False, False, False, False, False, False, True, False, False, False, 0]]\n"
          ]
        }
      ],
      "execution_count": 134,
      "metadata": {
        "collapsed": true,
        "jupyter": {
          "source_hidden": false,
          "outputs_hidden": false
        },
        "nteract": {
          "transient": {
            "deleting": false
          }
        },
        "gather": {
          "logged": 1607136794898
        }
      }
    },
    {
      "cell_type": "code",
      "source": [
        "# Combining the dataset into 1\r\n",
        "dataset = []\r\n",
        "l = len(negative_dataset) if len(negative_dataset) < len(positive_dataset) else len(positive_dataset)\r\n",
        "\r\n",
        "for i in range(0,l):\r\n",
        "    dataset.append(positive_dataset[i])\r\n",
        "    dataset.append(negative_dataset[i])\r\n",
        "print(dataset[:5])\r\n",
        "print(len(dataset))"
      ],
      "outputs": [
        {
          "output_type": "stream",
          "name": "stdout",
          "text": [
            "[[False, False, False, False, False, True, False, False, True, True, False, False, True, True, False, True, False, False, False, False, False, 1], [False, False, False, False, False, False, True, False, False, False, True, False, False, False, False, False, False, False, False, False, False, 0], [False, False, False, False, False, True, False, False, True, True, False, False, True, True, False, True, False, False, False, True, True, 1], [False, False, False, False, False, False, True, False, False, False, True, False, False, False, False, False, False, False, False, False, False, 0], [False, False, True, False, True, False, True, True, True, True, True, True, True, False, False, False, False, True, False, False, False, 1]]\n",
            "25220\n"
          ]
        }
      ],
      "execution_count": 135,
      "metadata": {
        "collapsed": true,
        "jupyter": {
          "source_hidden": false,
          "outputs_hidden": false
        },
        "nteract": {
          "transient": {
            "deleting": false
          }
        },
        "gather": {
          "logged": 1607136815682
        }
      }
    },
    {
      "cell_type": "code",
      "source": [
        "# Splitting the dataset into train and test\r\n",
        "\r\n",
        "X = list(map(lambda x: x[:-1], dataset))\r\n",
        "y = list(map(lambda x: x[-1], dataset))\r\n",
        "X_train, X_test, y_train, y_test = train_test_split(X, y, test_size=0.33, random_state=2)\r\n",
        "print(len(X))"
      ],
      "outputs": [
        {
          "output_type": "stream",
          "name": "stdout",
          "text": [
            "25220\n"
          ]
        }
      ],
      "execution_count": 137,
      "metadata": {
        "collapsed": true,
        "jupyter": {
          "source_hidden": false,
          "outputs_hidden": false
        },
        "nteract": {
          "transient": {
            "deleting": false
          }
        },
        "gather": {
          "logged": 1607136909345
        }
      }
    },
    {
      "cell_type": "code",
      "source": [
        "# Functions to compute different metrics\r\n",
        "\r\n",
        "def calcAccuracy(target, predictions):\r\n",
        "    total = len(predictions)\r\n",
        "    correct = 0\r\n",
        "    for i in range(len(predictions)):\r\n",
        "        if target[i] == predictions[i]:\r\n",
        "            correct += 1\r\n",
        "        accuracy = float(correct) / float(total)\r\n",
        "    return accuracy\r\n",
        "\r\n",
        "def FalsePositives(x_test, y_test, pred):\r\n",
        "    false_positives = []\r\n",
        "    for i in range(0, len(x_test)):\r\n",
        "        if y_test[i] == 0 and pred[i] == 1:\r\n",
        "            false_positives.append(x_test[i])\r\n",
        "    return false_positives\r\n",
        "\r\n",
        "def FalseNegatives(x_test, y_test, pred):\r\n",
        "    false_negatives = []\r\n",
        "    for i in range(0,len(x_test)):\r\n",
        "        if y_test[i] == 1 and pred[i] == 0:\r\n",
        "            false_negatives.append(x_test[i])\r\n",
        "    return false_negatives\r\n",
        "\r\n",
        "def PrintResults(classifier, acc, recall, precision):\r\n",
        "    print(classifier + \" Classifier\")\r\n",
        "    print(\"Accuracy= \", acc)\r\n",
        "    print(\"Precision= \", precision)\r\n",
        "    print(\"Recall= \", recall)"
      ],
      "outputs": [],
      "execution_count": 31,
      "metadata": {
        "collapsed": true,
        "jupyter": {
          "source_hidden": false,
          "outputs_hidden": false
        },
        "nteract": {
          "transient": {
            "deleting": false
          }
        },
        "gather": {
          "logged": 1607113604927
        }
      }
    },
    {
      "cell_type": "code",
      "source": [
        "# BEGIN MACHINE LEARNING MODELS\r\n",
        "from sklearn.tree import DecisionTreeClassifier\r\n",
        "from sklearn.neighbors import KNeighborsClassifier\r\n",
        "from sklearn.linear_model import LogisticRegression\r\n",
        "from sklearn.naive_bayes import GaussianNB\r\n",
        "from sklearn.ensemble import RandomForestClassifier\r\n",
        "from sklearn.model_selection import train_test_split\r\n",
        "from sklearn.metrics import precision_score\r\n",
        "from sklearn.metrics import recall_score"
      ],
      "outputs": [],
      "execution_count": 30,
      "metadata": {
        "collapsed": true,
        "jupyter": {
          "source_hidden": false,
          "outputs_hidden": false
        },
        "nteract": {
          "transient": {
            "deleting": false
          }
        },
        "gather": {
          "logged": 1607113601917
        }
      }
    },
    {
      "cell_type": "code",
      "source": [
        "# DECISION TREE CLASSIFIER\r\n",
        "dt = DecisionTreeClassifier().fit(X_train, y_train)\r\n",
        "pred = dt.predict(X_test)\r\n",
        "acc = calcAccuracy(y_test, pred)\r\n",
        "recall = recall_score(y_test, pred)\r\n",
        "precision = precision_score(y_test, pred)\r\n",
        "PrintResults(\"Decision Tree\", acc, recall, precision)\r\n",
        "\r\n",
        "false_negatives = FalseNegatives(X_test, y_test, pred)\r\n",
        "false_positives = FalsePositives(X_test, y_test, pred)\r\n",
        "\r\n",
        "print(f\"\\nFP-> {len(false_positives)} \\nFN-> {len(false_negatives)}\")"
      ],
      "outputs": [
        {
          "output_type": "stream",
          "name": "stdout",
          "text": [
            "Decision Tree Classifier\n",
            "Accuracy=  0.9312747807281029\n",
            "Precision=  0.929526994744386\n",
            "Recall=  0.9335412667946257\n",
            "\n",
            "FP-> 295 \n",
            "FN-> 277\n"
          ]
        }
      ],
      "execution_count": 138,
      "metadata": {
        "collapsed": true,
        "jupyter": {
          "source_hidden": false,
          "outputs_hidden": false
        },
        "nteract": {
          "transient": {
            "deleting": false
          }
        },
        "gather": {
          "logged": 1607136920137
        }
      }
    },
    {
      "cell_type": "code",
      "source": [
        "# KNN CLASSIFIER\r\n",
        "knn = KNeighborsClassifier(n_neighbors=5)\r\n",
        "knn.fit(X_train, y_train)\r\n",
        "pred = knn.predict(X_test)\r\n",
        "acc = calcAccuracy(y_test, pred)\r\n",
        "recall = recall_score(y_test, pred)\r\n",
        "precision = precision_score(y_test, pred)\r\n",
        "PrintResults(\"KNN\", acc, recall, precision)\r\n",
        "\r\n",
        "false_negatives = FalseNegatives(X_test, y_test, pred)\r\n",
        "false_positives = FalsePositives(X_test, y_test, pred)\r\n",
        "\r\n",
        "print(f\"\\nFP-> {len(false_positives)} \\nFN-> {len(false_negatives)}\")"
      ],
      "outputs": [
        {
          "output_type": "stream",
          "name": "stdout",
          "text": [
            "KNN Classifier\n",
            "Accuracy=  0.9186591373302896\n",
            "Precision=  0.9227415839186244\n",
            "Recall=  0.9141074856046065\n",
            "\n",
            "FP-> 319 \n",
            "FN-> 358\n"
          ]
        }
      ],
      "execution_count": 119,
      "metadata": {
        "collapsed": true,
        "jupyter": {
          "source_hidden": false,
          "outputs_hidden": false
        },
        "nteract": {
          "transient": {
            "deleting": false
          }
        },
        "gather": {
          "logged": 1607120614522
        }
      }
    },
    {
      "cell_type": "code",
      "source": [
        "# LOGISTIC REGRESSION CLASSIFER\r\n",
        "lr = LogisticRegression(random_state=0)\r\n",
        "lr.fit(X_train, y_train)\r\n",
        "pred = lr.predict(X_test)\r\n",
        "acc = calcAccuracy(y_test, pred)\r\n",
        "recall = recall_score(y_test, pred)\r\n",
        "precision = precision_score(y_test, pred)\r\n",
        "PrintResults(\"Logistic Regression\", acc, recall, precision)\r\n"
      ],
      "outputs": [
        {
          "output_type": "stream",
          "name": "stdout",
          "text": [
            "Logistic Regression Classifier\n",
            "Accuracy=  0.8942688934278505\n",
            "Precision=  0.9091587854654056\n",
            "Recall=  0.8764395393474088\n"
          ]
        }
      ],
      "execution_count": 120,
      "metadata": {
        "collapsed": true,
        "jupyter": {
          "source_hidden": false,
          "outputs_hidden": false
        },
        "nteract": {
          "transient": {
            "deleting": false
          }
        },
        "gather": {
          "logged": 1607120616967
        }
      }
    },
    {
      "cell_type": "code",
      "source": [
        "# RANDOM FORREST\r\n",
        "rfm = RandomForestClassifier().fit(X_train, y_train)\r\n",
        "pred = rfm.predict(X_test)\r\n",
        "acc = calcAccuracy(y_test, pred)\r\n",
        "recall = recall_score(y_test, pred)\r\n",
        "precision = precision_score(y_test, pred)\r\n",
        "PrintResults(\"Random Forrest\", acc, recall, precision)\r\n",
        "\r\n",
        "false_negatives = FalseNegatives(X_test, y_test, pred)\r\n",
        "false_positives = FalsePositives(X_test, y_test, pred)\r\n",
        "\r\n",
        "print(f\"\\nFP-> {len(false_positives)} \\nFN-> {len(false_negatives)}\")"
      ],
      "outputs": [
        {
          "output_type": "stream",
          "name": "stdout",
          "text": [
            "Random Forrest Classifier\n",
            "Accuracy=  0.9288718010332813\n",
            "Precision=  0.9275466284074605\n",
            "Recall=  0.930662188099808\n",
            "\n",
            "FP-> 303 \n",
            "FN-> 289\n"
          ]
        }
      ],
      "execution_count": 121,
      "metadata": {
        "collapsed": true,
        "jupyter": {
          "source_hidden": false,
          "outputs_hidden": false
        },
        "nteract": {
          "transient": {
            "deleting": false
          }
        },
        "gather": {
          "logged": 1607120621149
        }
      }
    },
    {
      "cell_type": "code",
      "source": [
        "# NAIVE BAYS\r\n",
        "nb = GaussianNB().fit(X_train, y_train)\r\n",
        "pred = nb.predict(X_test)\r\n",
        "acc = calcAccuracy(y_test, pred)\r\n",
        "recall = recall_score(y_test, pred)\r\n",
        "precision = precision_score(y_test, pred)\r\n",
        "PrintResults(\"Naive Bays\", acc, recall, precision)"
      ],
      "outputs": [
        {
          "output_type": "stream",
          "name": "stdout",
          "text": [
            "Naive Bays Classifier\n",
            "Accuracy=  0.7156073531178662\n",
            "Precision=  0.932724651609803\n",
            "Recall=  0.46569097888675626\n"
          ]
        }
      ],
      "execution_count": 122,
      "metadata": {
        "collapsed": true,
        "jupyter": {
          "source_hidden": false,
          "outputs_hidden": false
        },
        "nteract": {
          "transient": {
            "deleting": false
          }
        },
        "gather": {
          "logged": 1607120624055
        }
      }
    },
    {
      "cell_type": "code",
      "source": [
        "# Try/Catch for recognizing if input is json or not\r\n",
        "\r\n",
        "#data_dict = list(map(lambda x : ast.literal_eval(x), data))\r\n",
        "for x in dataset[:5]:\r\n",
        "    print(x)\r\n",
        "\r\n",
        "for y in dataset:\r\n",
        "    x = None\r\n",
        "    try:\r\n",
        "        x = ast.literal_eval(y[0])\r\n",
        "        #print(f\"It didn't break! {x}\")\r\n",
        "    except (ValueError, SyntaxError):\r\n",
        "        z = True\r\n",
        "        #print(f\"It broke:( {y}\") \r\n",
        "\r\n"
      ],
      "outputs": [
        {
          "output_type": "stream",
          "name": "stdout",
          "text": [
            "['#ReTweetThis for #OurMischief #BBlogRT SGH_RTs GFXCoach FearRTs ShoutGamers Demented_RTs Mighty_RTs DynoRTs NightRetweets WitWGARA posted: https://t.co/oAcPcjMyvAWatch Ninja now streaming VALORANTat https://t.co/QghgQSwvrL- #ThankYou for being #OurMischief! Wit', 1]\n",
            "['TRUDYDELEON-', 0]\n",
            "['groucho-eu', 1]\n",
            "['7JERRY-NELSON', 0]\n",
            "['RT tkasasagi: My Kuzushiji recognition mobile app using Tensorflow and Flutter project got awarded research grant from Japan Science and T', 1]\n"
          ]
        }
      ],
      "execution_count": 58,
      "metadata": {
        "collapsed": true,
        "jupyter": {
          "source_hidden": false,
          "outputs_hidden": false
        },
        "nteract": {
          "transient": {
            "deleting": false
          }
        },
        "gather": {
          "logged": 1606874741766
        }
      }
    },
    {
      "cell_type": "code",
      "source": [
        "tk = WhitespaceTokenizer() \r\n",
        "t1 = \"Hello\"\r\n",
        "token = tk.tokenize(t1)\r\n",
        "print(token)"
      ],
      "outputs": [
        {
          "output_type": "stream",
          "name": "stdout",
          "text": [
            "['Hello']\n"
          ]
        }
      ],
      "execution_count": 59,
      "metadata": {
        "collapsed": true,
        "jupyter": {
          "source_hidden": false,
          "outputs_hidden": false
        },
        "nteract": {
          "transient": {
            "deleting": false
          }
        },
        "gather": {
          "logged": 1606874783950
        }
      }
    }
  ],
  "metadata": {
    "kernelspec": {
      "name": "python3-azureml",
      "language": "python",
      "display_name": "Python 3.6 - AzureML"
    },
    "language_info": {
      "name": "python",
      "version": "3.6.9",
      "mimetype": "text/x-python",
      "codemirror_mode": {
        "name": "ipython",
        "version": 3
      },
      "pygments_lexer": "ipython3",
      "nbconvert_exporter": "python",
      "file_extension": ".py"
    },
    "kernel_info": {
      "name": "python3-azureml"
    },
    "nteract": {
      "version": "nteract-front-end@1.0.0"
    }
  },
  "nbformat": 4,
  "nbformat_minor": 2
}