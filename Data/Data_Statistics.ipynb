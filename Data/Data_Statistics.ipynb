{
  "cells": [
    {
      "cell_type": "code",
      "source": [
        "import pandas as pd\r\n",
        "import random\r\n",
        "from azureml.core import Workspace, Datastore, Dataset"
      ],
      "outputs": [],
      "execution_count": 1,
      "metadata": {
        "gather": {
          "logged": 1607460255958
        }
      }
    },
    {
      "cell_type": "code",
      "source": [
        "df = pd.read_csv(\"./Data/Alpha_Dataset.csv\", names=[\"Data\", \"Label\"], header=0)\r\n",
        "usernames_df = pd.read_csv(\"../mitchall.boesel/Twitter/tweets.csv\", names=[\"Data\", \"Label\"], header=0)\r\n",
        "hostnames_df = pd.read_csv(\"../caesar.white/hostnames_strings.csv\", names=[\"Data\", \"Label\"], header=0)\r\n",
        "filenames_df = pd.read_csv(\"../jongyun.kim/featuriaztion/filenames.csv\", names=[\"Data\", \"Label\"], header=0)\r\n",
        "ip_df = pd.read_csv(\"../cougsInAzure/IP_Datapoints.csv\", names=[\"Data\", \"Label\"], header=0)\r\n",
        "servernames_df = pd.read_csv(\"../mitchall.boesel/servernames.csv\", names=[\"Data\", \"Label\"], header=0)"
      ],
      "outputs": [],
      "execution_count": 4,
      "metadata": {
        "collapsed": true,
        "jupyter": {
          "source_hidden": false,
          "outputs_hidden": false
        },
        "nteract": {
          "transient": {
            "deleting": false
          }
        },
        "gather": {
          "logged": 1607460430997
        }
      }
    },
    {
      "cell_type": "code",
      "source": [
        "def DisplayPosNeg(s, ser):\r\n",
        "    print(\"Distribution of \", s, \"Dataset\")\r\n",
        "    print(ser.value_counts())\r\n",
        "    print()\r\n",
        "\r\n",
        "DisplayPosNeg(\"Usernames\", usernames_df[\"Label\"])\r\n",
        "DisplayPosNeg(\"Hostnames\", hostnames_df[\"Label\"])\r\n",
        "DisplayPosNeg(\"Filesnames\", filenames_df[\"Label\"])\r\n",
        "DisplayPosNeg(\"IP\", ip_df[\"Label\"])\r\n",
        "DisplayPosNeg(\"Servernames\", servernames_df[\"Label\"])\r\n",
        "\r\n",
        "print(\"Total number of positives = 28552\")\r\n",
        "print(\"Total number of negatives = 12610\")"
      ],
      "outputs": [
        {
          "output_type": "stream",
          "name": "stdout",
          "text": [
            "Distribution of  Usernames Dataset\n",
            "1    12073\n",
            "0     5162\n",
            "Name: Label, dtype: int64\n",
            "\n",
            "Distribution of  Hostnames Dataset\n",
            "1    5025\n",
            "0    4975\n",
            "Name: Label, dtype: int64\n",
            "\n",
            "Distribution of  Filesnames Dataset\n",
            "1    8741\n",
            "Name: Label, dtype: int64\n",
            "\n",
            "Distribution of  IP Dataset\n",
            "1    2527\n",
            "0    2473\n",
            "Name: Label, dtype: int64\n",
            "\n",
            "Distribution of  Servernames Dataset\n",
            "1    186\n",
            "Name: Label, dtype: int64\n",
            "\n",
            "Total number of positives = 28552\n",
            "Total number of negatives = 12610\n"
          ]
        }
      ],
      "execution_count": 16,
      "metadata": {
        "collapsed": true,
        "jupyter": {
          "source_hidden": false,
          "outputs_hidden": false
        },
        "nteract": {
          "transient": {
            "deleting": false
          }
        },
        "gather": {
          "logged": 1607461395299
        }
      }
    }
  ],
  "metadata": {
    "kernelspec": {
      "name": "python3-azureml",
      "language": "python",
      "display_name": "Python 3.6 - AzureML"
    },
    "language_info": {
      "name": "python",
      "version": "3.6.9",
      "mimetype": "text/x-python",
      "codemirror_mode": {
        "name": "ipython",
        "version": 3
      },
      "pygments_lexer": "ipython3",
      "nbconvert_exporter": "python",
      "file_extension": ".py"
    },
    "kernel_info": {
      "name": "python3-azureml"
    },
    "nteract": {
      "version": "nteract-front-end@1.0.0"
    }
  },
  "nbformat": 4,
  "nbformat_minor": 2
}